{
 "cells": [
  {
   "cell_type": "code",
   "execution_count": null,
   "metadata": {},
   "outputs": [],
   "source": [
    "from sentence_transformers import SentenceTransformer\n",
    "from sklearn.metrics.pairwise import cosine_similarity\n",
    "\n",
    "sentences = [\n",
    "]\n",
    "\n",
    "model = SentenceTransformer('pkshatech/GLuCoSE-base-ja')\n",
    "embeddings = model.encode(sentences)\n",
    "#print(embeddings)\n",
    "\n",
    "cosine_similarities = cosine_similarity(embeddings)\n",
    "for i, sentence in enumerate(sentences):\n",
    "    similarities = cosine_similarities[i]\n",
    "    sorted_indices = similarities.argsort()\n",
    "    top3_indices = sorted_indices[-4:-1][::-1]  # Exclude the sentence itself\n",
    "    bottom3_indices = sorted_indices[:3]\n",
    "    \n",
    "    print(f\"Sentence: {sentence}\")\n",
    "    print(\"Top 3 similar sentences:\")\n",
    "    for idx in top3_indices:\n",
    "        print(f\"  {sentences[idx]} (Similarity: {similarities[idx]:.4f})\")\n",
    "    \n",
    "    print(\"Bottom 3 similar sentences:\")\n",
    "    for idx in bottom3_indices:\n",
    "        print(f\"  {sentences[idx]} (Similarity: {similarities[idx]:.4f})\")\n",
    "    print()"
   ]
  }
 ],
 "metadata": {
  "kernelspec": {
   "display_name": ".venv",
   "language": "python",
   "name": "python3"
  },
  "language_info": {
   "codemirror_mode": {
    "name": "ipython",
    "version": 3
   },
   "file_extension": ".py",
   "mimetype": "text/x-python",
   "name": "python",
   "nbconvert_exporter": "python",
   "pygments_lexer": "ipython3",
   "version": "3.10.14"
  }
 },
 "nbformat": 4,
 "nbformat_minor": 2
}
